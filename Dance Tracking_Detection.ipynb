{
 "cells": [
  {
   "cell_type": "code",
   "execution_count": 1,
   "id": "8ce1760c",
   "metadata": {},
   "outputs": [],
   "source": [
    "import mediapipe as mp\n",
    "import cv2"
   ]
  },
  {
   "cell_type": "markdown",
   "id": "e30b2368",
   "metadata": {},
   "source": [
    "### Loading Mediapipe Pose Model"
   ]
  },
  {
   "cell_type": "code",
   "execution_count": 2,
   "id": "dc187f15",
   "metadata": {},
   "outputs": [],
   "source": [
    "mp_pose = mp.solutions.pose\n",
    "pose = mp_pose.Pose(static_image_mode=False,\n",
    "                   min_detection_confidence=0.5,\n",
    "                   min_tracking_confidence=0.5)"
   ]
  },
  {
   "cell_type": "markdown",
   "id": "da6cd10a",
   "metadata": {},
   "source": [
    "### Load the video"
   ]
  },
  {
   "cell_type": "code",
   "execution_count": 3,
   "id": "d01962ac",
   "metadata": {},
   "outputs": [],
   "source": [
    "# cap = cv2.VideoCapture(r'D:\\7.30 PM DATA SCIENCE AND AI\\DAILY SESSION MATERIALS\\NOV\\22- Mediapipe\\production_id_4990397 (1080p).mp4')\n",
    "cap = cv2.VideoCapture(r'D:\\7.30 PM DATA SCIENCE AND AI\\DAILY SESSION MATERIALS\\NOV\\22- Mediapipe\\Bharatnatyam .mp4')"
   ]
  },
  {
   "cell_type": "markdown",
   "id": "acb32a34",
   "metadata": {},
   "source": [
    "### Create VideoWriter object to save output video"
   ]
  },
  {
   "cell_type": "code",
   "execution_count": 4,
   "id": "2aa2dd90",
   "metadata": {},
   "outputs": [],
   "source": [
    "output_path = r'D:\\7.30 PM DATA SCIENCE AND AI\\TF, KERAS, OPENCV CODES\\Dance Tracking_Detection'\n",
    "\n",
    "fps = cap.get(cv2.CAP_PROP_FPS)\n",
    "width = int(cap.get(cv2.CAP_PROP_FRAME_WIDTH))\n",
    "height = int(cap.get(cv2.CAP_PROP_FRAME_HEIGHT))\n",
    "fourcc = cv2.VideoWriter_fourcc(*'mp4v')   \n",
    "#  codec to be used for the video\n",
    "# 'mp4v' is the FourCC code for the MPEG-4 Video codec\n",
    "\n",
    "out = cv2.VideoWriter(output_path, fourcc, fps, (width, height))"
   ]
  },
  {
   "cell_type": "code",
   "execution_count": 5,
   "id": "634adffb",
   "metadata": {},
   "outputs": [],
   "source": [
    "while cap.isOpened():\n",
    "    ret, frame = cap.read()\n",
    "    if not ret:\n",
    "        break\n",
    "    \n",
    "    # Convert the image to RGB\n",
    "    image_RGB = cv2.cvtColor(frame, cv2.COLOR_BGR2RGB)\n",
    "    \n",
    "    # Process the frame with Mediapipe-Pose\n",
    "    results = pose.process(image_RGB)\n",
    "    \n",
    "    if results.pose_landmarks:\n",
    "        # Render the pose landmarks on the frame\n",
    "        mp_drawing = mp.solutions.drawing_utils\n",
    "        mp_drawing.draw_landmarks(frame, results.pose_landmarks, mp_pose.POSE_CONNECTIONS,\n",
    "                                 mp_drawing.DrawingSpec(color=(0,255,0), thickness=2, circle_radius=2),\n",
    "                                 mp_drawing.DrawingSpec(color=(0,0,255), thickness=2, circle_radius=2))\n",
    "        \n",
    "        # Write the frame with landmarks to the output video\n",
    "        out.write(frame)\n",
    "        \n",
    "        # Displaying the resulting frame\n",
    "        cv2.imshow('Dance Tracking', frame)\n",
    "        \n",
    "        if cv2.waitKey(1)==13:\n",
    "            break\n",
    "\n",
    "cap.release()\n",
    "cv2.destroyAllWindows()"
   ]
  },
  {
   "cell_type": "code",
   "execution_count": null,
   "id": "0fd2f230",
   "metadata": {},
   "outputs": [],
   "source": []
  }
 ],
 "metadata": {
  "kernelspec": {
   "display_name": "Python 3 (ipykernel)",
   "language": "python",
   "name": "python3"
  },
  "language_info": {
   "codemirror_mode": {
    "name": "ipython",
    "version": 3
   },
   "file_extension": ".py",
   "mimetype": "text/x-python",
   "name": "python",
   "nbconvert_exporter": "python",
   "pygments_lexer": "ipython3",
   "version": "3.11.5"
  }
 },
 "nbformat": 4,
 "nbformat_minor": 5
}
